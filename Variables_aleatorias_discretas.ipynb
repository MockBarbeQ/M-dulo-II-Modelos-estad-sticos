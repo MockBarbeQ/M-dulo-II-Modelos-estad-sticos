{
  "cells": [
    {
      "cell_type": "markdown",
      "metadata": {
        "id": "view-in-github",
        "colab_type": "text"
      },
      "source": [
        "<a href=\"https://colab.research.google.com/github/MockBarbeQ/M-dulo-II-Modelos-estad-sticos/blob/main/Variables_aleatorias_discretas.ipynb\" target=\"_parent\"><img src=\"https://colab.research.google.com/assets/colab-badge.svg\" alt=\"Open In Colab\"/></a>"
      ]
    },
    {
      "cell_type": "markdown",
      "id": "d50d92d5",
      "metadata": {
        "id": "d50d92d5"
      },
      "source": [
        "# Variables aleatorias discretas"
      ]
    },
    {
      "cell_type": "code",
      "source": [
        "import numpy as np\n",
        "import numpy.random as npr\n",
        "\n",
        "import scipy.stats as sps\n",
        "from scipy.stats import binom\n",
        "from scipy.stats import randint #Distribucion uniforme discreta\n",
        "\n",
        "import matplotlib.pyplot as plt\n",
        "\n",
        "import random\n",
        "\n",
        "import warnings\n",
        "warnings.filterwarnings('ignore')"
      ],
      "metadata": {
        "id": "znygKxX_qQWg"
      },
      "id": "znygKxX_qQWg",
      "execution_count": null,
      "outputs": []
    },
    {
      "cell_type": "markdown",
      "id": "bd499bb5",
      "metadata": {
        "id": "bd499bb5"
      },
      "source": [
        "# Variable aleatoria uniforme discreta\n",
        "\n",
        "Una variable aleatoria $X$ tiene distribución uniforme discreta en el conjunto $\\{x_{1},\\dots,x_{n}\\}$ si su función de masa de probabilidades está dada por\n",
        "$$f_{X}(k)=\\mathbb{P}(X=k)=\\begin{cases}\n",
        "\\frac{1}{n} &\\quad \\text{si } k\\in\\{x_{1},\\dots,x_{n}\\} \\\\\n",
        "0 &\\quad \\text{en otro caso}\n",
        "\\end{cases}$$\n",
        "\n",
        "**Notación:** $X\\sim Unif(x_{1},\\dots,x_{n}).$\n",
        "\n",
        "Se llama uniforme porque cada uno de los posibles valores de $X$ tienen la misma probabilidad.\n",
        "\n",
        "Si $X\\sim Unif(x_{1},\\dots,x_{n})$, en este caso, se tiene:\n",
        "\t$$\\mathbb{E}[X] = \\sum_{k}kf_{X}(k)=\\frac{x_n + x_1}{2}.$$\n",
        "\ty\n",
        "\t$$\\text{Var}(X) = \\mathbb{E}[(X-\\mathbb{E}[X])^{2}] =\\sum_{k}(k-\\mathbb{E}[X])^{2}f_{X}(k)=\\frac{(x_n - x_1+1)^2-1}{12}$$\n",
        "\n",
        "$\\color{red}{\\text{Ejercicio 1.}}$ Verifica que, en efecto, la esperanza y varianza de una variable aleatoria uniforme está dada como antes.\n",
        "\n",
        "*Demostración:*\n",
        "\n",
        "Por definición, la esperanza de una variable aleatoria discreta se calcula de la siguiente forma:\n",
        "$$\\mathbb{E}[X]=\\sum_{k=x_1}^{x_n}kf_{X}(k)=\\sum_{k=x_1}^{x_n}k ⋅ \\mathbb{P}(X=k)$$\n",
        "Dado que $X$ es uniforme, sabemos que\n",
        "$$\\mathbb{P}(X=k)=\\frac{1}{n} \\text{ para cada } k \\in\\{x_1,\\dots,x_{n}\\} \\text{ y } n=x_n -(x_1 -1)$$\n",
        "Por lo que\n",
        "$$\\mathbb{E}[X] =\\sum_{k=x_1}^{x_n}k\\frac{1}{n}=\\frac{1}{n}\\sum_{k=x_1}^{x_n}k$$\n",
        "\n",
        "Dado que $X$ toma los valores consecutivos de $\\{x_{1},\\dots,x_{n}\\}$, entonces:\n",
        "\n",
        "$$\\sum_{k=x_1}^{x_n}k = \\frac{x_n(x_n +1)}{2} - \\frac{x_1(x_1 +1)}{2} = \\frac{(x_n-x_1+1)(x_n + x_1)}{2} $$\n",
        "\n",
        "Finalmente, vemos que\n",
        "\n",
        "$$\\mathbb{E}[X] = \\frac{1}{x_n-x_1+1} · \\frac{(x_n-x_1+1)(x_n + x_1)}{2} = \\frac{x_n +x_1}{2} $$\n",
        "\n",
        "Ahora para el caso de $\\text{Var}(X)$, vemos que por definición:\n",
        "\n",
        "$$\\text{Var}(X)= \\mathbb{E}[X^2] -(\\mathbb{E}[X])^2 $$\n",
        "\n",
        "Por lo que vamos a calcular $\\mathbb{E}[X^2]$ que está definido como:\n",
        "\n",
        " $$ \\mathbb{E}[X^2] = \\sum_{k=x_1}^{x_n}k^2f_{X}(k)= \\sum_{k=x_1}^{x_n}k^2·\\mathbb{P}(X=k)$$\n",
        "\n",
        "Como ya vimos   $$\\mathbb{P}(X=k) = \\frac{1}{x_n-x_1+1}$$\n",
        "\n",
        "Dado que $X$ toma los valores consecutivos de $\\{x_{1},\\dots,x_{n}\\}$, entonces:\n",
        "\n",
        "\\begin{aligned}\n",
        "\\sum_{k=x_1}^{x_n}k^2\n",
        "&= \\frac{x_n(x_n+1)(2x_n+1)}{6}-\\frac{x_1(x_1+1)(2x_1+1)}{6} \\\\\n",
        "&= \\frac{(x_n - x_1 + 1)(2x_n^2 + 2x_1^2 + 2x_n x_1 - x_1 + x_n)}{6}\n",
        "\\end{aligned}\n",
        "\n",
        "Por lo que:\n",
        "\\begin{aligned}\n",
        "\\mathbb{E}[X^2]\n",
        "&=\\frac{1}{x_n-x_1+1} · \\frac{(x_n - x_1 + 1)(2x_n^2 + 2x_1^2 + 2x_n x_1 - x_1 + x_n)}{6} \\\\\n",
        "&= \\frac{(2x_n^2 + 2x_1^2 + 2x_n x_1 - x_1 + x_n)}{6}\n",
        "\\end{aligned}\n",
        "\n",
        "Finalmente, podemos calcular la varianza\n",
        "\n",
        "\\begin{aligned}\n",
        "\\text{Var}(X)\n",
        "&= \\mathbb{E}[X^2] - (\\mathbb{E}[X])^2 \\\\\n",
        "&= \\frac{2x_1^2 + 2x_n^2 + 2x_n x_1}{6} - \\left( \\frac{x_n + x_1}{2} \\right)^2 \\\\\n",
        "&= \\frac{2x_1^2 + 2x_n^2 + 2x_n x_1}{6} - \\frac{x_1^2 + x_n^2 + 2x_1 x_n}{4}\\\\\n",
        "&= \\frac{4x_1^2 + 4x_n^2 + 4x_n x_1 - 2x_1^2 - 2x_n^2 - 2x_1 x_n}{12}\\\\\n",
        "&= \\frac{x_1^2 + x_n^2 - 2x_1 x_n}{12}\\\\\n",
        "&= \\frac{(x_n - x_1 + 1)^2 - 1}{12}\n",
        "\\end{aligned}\n"
      ]
    },
    {
      "cell_type": "markdown",
      "source": [
        "**Ejemplo** Se lleva a cabo una rifa donde los boletos están enumerados del $00$ al $99$. Si $Y$ es la variable aleatoria definida como el número del boleto ganador, entonces:  \n",
        "$$\\mathbb{P}(Y=k)=\\begin{cases}\n",
        "\t\\frac{1}{100} &\\quad \\text{si } k=00,01,\\dots,99 \\\\\n",
        "\t0 &\\quad \\text{en otro caso}\n",
        "\\end{cases}$$\n",
        "Consideremos que el premio de la rifa se determina a partir del número premiado de la siguiente forma: $X=Y+1$, donde $X$ es el monto del premio en pesos y $Y$ es el número premiado, entonces $X$ es una variable aleatoria, pues es una función de $Y$, y además se tiene\n",
        "\t$$f_{X}(k)=\\begin{cases}\n",
        "\t\t\\frac{1}{100} &\\quad \\text{si } x=1,2,\\dots,100 \\\\\n",
        "\t\t0 &\\quad \\text{en otro caso}\n",
        "\t\\end{cases}$$\n",
        "Entonces, la esperanza y varianza de $X$ están dados por:\n",
        "\t$$\\mathbb{E}[X] = \\sum_{k=1}^{100}k\\left(\\frac{1}{100}\\right) = \\frac{1}{100}\\sum_{k=1}^{100}k = \\frac{1}{100}\\left[\\frac{100(100+1)}{2}\\right] = 50.5$$\n",
        "\ty\n",
        "\t$$\\text{Var}(X) = \\mathbb{E}[X^{2}]-(\\mathbb{E}[X])^{2} = \\sum_{k=1}^{100}k^{2}\\left(\\frac{1}{100}\\right)-(50.5)^{2} = 833.25$$   \n",
        "\n",
        "\n",
        "    \n",
        "Supongamos que nos interesa calcular la probabilidad de que el premio sea mayor a $\\$80$, entonces\n",
        "\t$$\\mathbb{P}(X>80) = \\sum_{k=81}^{100}\\frac{1}{100} = \\frac{20}{100} = 0.2$$\n",
        "\tSu función de distribución esta dada por:\n",
        "\t$$F_{X}(x)=\\mathbb{P}(X\\le x)=\\begin{cases}\n",
        "\t\t0 &\\quad \\text{si } x<1 \\\\\n",
        "\t\t\\frac{x}{100} &\\quad \\text{si } x=1,2,\\dots,100\\\\ 1 &\\quad \\text{si } x>100\n",
        "\t\\end{cases}$$     "
      ],
      "metadata": {
        "id": "yN2NtlY20sw9"
      },
      "id": "yN2NtlY20sw9"
    },
    {
      "cell_type": "markdown",
      "source": [
        "$\\color{red}{\\text{Ejercicio 2.}}$ Dibuja a la función de distribución acumulada de la variable aleatoria:\n",
        "$$S:\\{1,2,3,4,5,6\\}^{2}\\to \\{2, 3, 4, 5, 6, 7, 8, 9, 10, 11, 12 \\}$$\n",
        "dada por\n",
        "$S(i,j)=i+j.$"
      ],
      "metadata": {
        "id": "UAQy3d5scoHX"
      },
      "id": "UAQy3d5scoHX"
    },
    {
      "cell_type": "code",
      "source": [
        "# Bibliotecas necesarias\n",
        "from itertools import product # para realizar el prodcuto cartesiano\n",
        "from fractions import Fraction\n",
        "from collections import defaultdict # para generar los diccionarios\n",
        "import pandas as pd\n",
        "import matplotlib.colors as mcolors # para crear la paleta de colores\n",
        "\n",
        "# Funcion para calcular probabilidades\n",
        "def P(A, Omega):\n",
        "  P = Fraction(len(A),len(Omega))\n",
        "  return P\n",
        "\n",
        "#Primero vamos a crear a nuestro espacio muestral Omega\n",
        "L = [i for i in range(1,7)] #Lista por comprensión\n",
        "Omega = set(product(L, repeat=2))\n",
        "\n",
        "# Generamos el espacio de resultados\n",
        "S = {(i,j): i+j for i,j in Omega}\n",
        "\n",
        "#Vamos a crear un diccionario con los posbiles resultados para cada n\n",
        "dS = defaultdict(set)\n",
        "for i,j in S.items():\n",
        "  dS[j].add(i) #añadiendo al diccionario las llaves\n",
        "\n",
        "# Calculamos la distribucion de la v.a. Sn\n",
        "leyS = {k : P(A,Omega) for k,A in dS.items()}\n",
        "proba_tot_E_1 = sum(leyS.values())\n",
        "\n",
        "# Usamos pandas para ordenarlo\n",
        "leyS = pd.Series(leyS)\n",
        "leyS = leyS.sort_index()"
      ],
      "metadata": {
        "id": "RcpLoIxZrURm"
      },
      "id": "RcpLoIxZrURm",
      "execution_count": 19,
      "outputs": []
    },
    {
      "cell_type": "code",
      "source": [
        "# Definir la normalización para los colores, (esto no es necesario)\n",
        "norm = mcolors.Normalize(vmin=min(leyS), vmax=max(leyS))\n",
        "\n",
        "# Crear una paleta de colores\n",
        "cmap = plt.get_cmap('Blues')\n",
        "\n",
        "# Generar los colores correspondientes\n",
        "colors = [cmap(norm(p)) for p in leyS]\n",
        "\n",
        "# Graficar la distribución de la variable aleatoria S\n",
        "plt.bar(leyS.index, [float(p) for p in leyS], color=colors)\n",
        "plt.title('Distribución de la suma de las caras de dos dados')\n",
        "plt.xlabel('Resultado de la suma')\n",
        "plt.ylabel('Probabilidad')\n",
        "plt.xticks(leyS.index)\n",
        "plt.grid(True, axis='y', linestyle='', alpha=0.8)\n",
        "\n",
        "# Mostrar la gráfica\n",
        "plt.show()"
      ],
      "metadata": {
        "colab": {
          "base_uri": "https://localhost:8080/",
          "height": 472
        },
        "id": "PZ19_3AvvsKP",
        "outputId": "48f62b5e-fe38-45f4-c436-64070a85570b"
      },
      "id": "PZ19_3AvvsKP",
      "execution_count": 20,
      "outputs": [
        {
          "output_type": "display_data",
          "data": {
            "text/plain": [
              "<Figure size 640x480 with 1 Axes>"
            ],
            "image/png": "[encoded data removed]"
          },
          "metadata": {}
        }
      ]
    },
    {
      "cell_type": "markdown",
      "id": "1a2446e2",
      "metadata": {
        "id": "1a2446e2"
      },
      "source": [
        "## Variable aleatoria Bernoulli con parámetro $p\\in (0,1)$.\n",
        "\n",
        "El modelo probabilístico Bernoulli se aplica a un experimento cuyo espacio muestral está constituido sólo por dos resultados posibles, éxito y fracaso:\n",
        "\n",
        "Se considerará una v.a $X$ sobre el espacio muestral $$\\Omega=\\{\\text{éxito, fracaso}\\}$$\n",
        "de tal forma que\n",
        "* $X(\\{\\text{éxito}\\}) = 1$\n",
        "* $X(\\{\\text{fracaso}\\}) = 0$\n",
        "\n",
        "Las probabilidades asociadas a este modelo son:\n",
        "\n",
        "* $\\mathbb{P}(\\{\\text{éxito}\\}) = p$\n",
        "* $\\mathbb{P}(\\{\\text{fracaso}\\}) = 1-p$\n",
        "\n",
        "donde $0<p<1$.\n",
        "\n",
        "\n",
        "Entonces la función de densidad de masa de probabilidades de $X$ está dada por:\n",
        "\n",
        "$$f_{X}(k)=\\begin{cases}\n",
        "p &\\quad \\text{si } k=1 \\\\\n",
        "1-p &\\quad \\text{si } k=0\n",
        "\\end{cases}$$\n",
        "\n",
        "**Notación:** $X\\sim \\text{Ber}(p)$.\n",
        "\n",
        "Esta variable aleatoria es muy importante. En la practica es usada para modelar situaciones en las cuales hay dos posibles resultados como:\n",
        "* el estado de un teléfono en un momento dado: libre u ocupado.\n",
        "* una persona pueda estar enferma o sana de una determinada enfermedad.\n",
        "* la preferencia de una persona, la cual puede estar a favor o en contra de un candidato determinado.\n",
        "\n",
        "Mediante la combinación de variables aleatorias Bernoulli es posible construir otras variables aleatorias.\n",
        "\n",
        "### Esperanza y Varianza\n",
        "\n",
        "Si $X\\sim \\text{Ber}(p)$, entonces su esperanza es:\n",
        "\\begin{align*}\n",
        "\\mathbb{E}[X] = \\sum_{k=0}^{1}kf_{X}(k) = 1\\cdot p + 0\\cdot (1-p) = p.\n",
        "\\end{align*}\n",
        "\n",
        "Y su varianza se calcula usando,\n",
        "$$\\mathbb{E}[X^{2}] = \\sum_{k=0}^{1}k^{2}f_{X}(k) = 1^{2}\\cdot p + 0^{2}\\cdot (1-p) = p.$$\n",
        "Por lo tanto,\n",
        "$$\\text{Var}(X)=\\mathbb{E}[X^{2}]-(\\mathbb{E}[X])^{2} = p-p^{2} = p(1-p)$$\n",
        "\n"
      ]
    },
    {
      "cell_type": "markdown",
      "id": "5effadd4",
      "metadata": {
        "id": "5effadd4"
      },
      "source": [
        "## Variable aleatoria Binomial con parámetros $n$ y $p\\in (0,1)$.\n",
        "\n",
        "Decimos que una v.a $X$ tiene distribución binomial con párametros $n$ y $p$, si su función de densidad de masa de probabilidades está dada por:\n",
        "$$\\begin{equation*}\n",
        "\tf_{X}(k)=\\begin{cases}\n",
        "\t\\binom{n}{k}p^{k}(1-p)^{n-k} &\\quad \\text{si } k=0,1,\\dots,n \\\\\n",
        "\t\\qquad 0 &\\quad \\text{en otro caso}  \n",
        "\t\\end{cases}\n",
        "\\end{equation*}$$\n",
        "donde $n$ es un entero positivo y $0< p< 1$.\n",
        "\n",
        "La esperanza de $X$ es:\n",
        "\\begin{align*}\n",
        "\\mathbb{E}[X]&= \\sum_{k \\mathop = 0}^n k \\binom n k p^k (1-p)^{n - k}\\\\\n",
        "&=\\sum_{k \\mathop = 1}^n k \\binom n k p^k (1-p)^{n - k}\\\\\n",
        "&= \\sum_{k \\mathop = 1}^n n \\binom {n - 1} {k - 1} p^k (1-p)^{n - k}\\\\\n",
        "&= n p \\sum_{k \\mathop = 1}^n \\binom {n - 1} {k - 1} p^{k - 1} (1-p)^{( {n - 1}) - ( {k - 1}) }\\\\\n",
        "&=n p \\sum_{j \\mathop = 0}^m \\binom m j p^j (1-p)^{m - j}\\\\\n",
        "&=np\n",
        "\\end{align*}\n",
        "\n",
        "Ahora,\n",
        "\\begin{align*}\n",
        "\\mathbb{E}[X^2]&= \\sum_{k \\mathop = 0}^n k^2 \\binom n k p^k (1-p)^{n - k}\\\\\n",
        "&=\\sum_{k \\mathop = 0}^n k n \\binom {n - 1} {k - 1} p^k (1-p)^{n - k}\\\\\n",
        "&= n p \\sum_{k \\mathop = 1}^n k \\binom {n - 1} {k - 1} p^{k - 1} (1-p)^{({n - 1}) - ({k - 1}) }\\\\\n",
        "&= n p \\sum_{j \\mathop = 0}^m ({j + 1}) \\binom m j p^j (1-p)^{m - j}\\\\\n",
        "&=n p \\left( {\\sum_{j \\mathop = 0}^m j \\binom m j p^j (1-p)^{m - j} + \\sum_{j \\mathop = 0}^m \\binom m j p^j (1-p)^{m - j} }\\right)\\\\\n",
        "&=n p \\left( {\\sum_{j \\mathop = 0}^m m \\binom {m - 1} {j - 1} p^j (1-p)^{m - j} + \\sum_{j \\mathop = 0}^m \\binom m j p^j (1-p)^{m - j} }\\right)\\\\\n",
        "&= n p \\left( (n - 1) p \\sum_{j \\mathop = 1}^m \\binom {m - 1}{j - 1} p^{j - 1} (1-p)^{( {m - 1}) - ({j - 1}) } + \\sum_{j \\mathop = 0}^m \\binom m j p^j (1-p)^{m - j}\\right) \\\\\n",
        "&= n p \\left( (n - 1) p (p + (1-p))^{m - 1} + (p + (1-p))^m\\right)\\\\\n",
        "&= n p ((n - 1) p + 1)\\\\\n",
        "&= (np)^2 +np(1-p),\n",
        "\\end{align*}\n",
        "\n",
        "por lo que la varianza de $X$ es:\n",
        "$$\\text{Var}(X)=np(1-p).$$\n",
        "\n",
        "\n",
        "**Ejemplo** Una moneda no justa se tira 6 veces, donde la probabilidad de obtener sol es de $0.3$. Sea $X$ el número de veces que cae sol, entonces $X$ tiene una distribución binomial con parámetros $n=6$ y $p=0.3$. Por lo que\n",
        "$$\\begin{align*}\n",
        "\\mathbb{P}(X=2) &= \\binom{6}{2}(0.3)^{2}(0.7)^{4}=0.3241 \\\\\n",
        "\\mathbb{P}(X=3) &= \\binom{6}{3}(0.3)^{3}(0.7)^{3}=0.1852 \\\\\n",
        "\\mathbb{P}(1<X\\le 5) &= \\mathbb{P}(X=2)+\\mathbb{P}(X=3)+\\mathbb{P}(X=4)+\\mathbb{P}(X=5) \\\\\n",
        "\t\t\t&= 0.3241 + 0.1852 + \\binom{6}{4}(0.3)^{4}(0.7)^{2} + \\binom{6}{5}(0.3)^{5}(0.7)^{1} \\\\\n",
        "\t\t\t&= 0.5093 + 0.0595 + 0.0102 = 0.579\n",
        "\\end{align*}$$"
      ]
    },
    {
      "cell_type": "markdown",
      "source": [
        "Note que la probabilidad $$\\mathbb{P}(1<X\\leq 5)=F_{X}(5)-F_{X}(1).$$"
      ],
      "metadata": {
        "id": "hzmozY9DZxIU"
      },
      "id": "hzmozY9DZxIU"
    },
    {
      "cell_type": "code",
      "source": [
        "binom.cdf(5,6,0.3) - binom.cdf(1,6,0.3)"
      ],
      "metadata": {
        "colab": {
          "base_uri": "https://localhost:8080/"
        },
        "id": "aN0ODJWloyan",
        "outputId": "42333f88-08aa-4252-a1f3-a3f4ca540542"
      },
      "id": "aN0ODJWloyan",
      "execution_count": null,
      "outputs": [
        {
          "output_type": "execute_result",
          "data": {
            "text/plain": [
              "0.5790960000000003"
            ]
          },
          "metadata": {},
          "execution_count": 3
        }
      ]
    },
    {
      "cell_type": "markdown",
      "source": [
        "Vamos a graficar la función de densidad de una binomial"
      ],
      "metadata": {
        "id": "jK1ugVnRpTZP"
      },
      "id": "jK1ugVnRpTZP"
    },
    {
      "cell_type": "code",
      "source": [
        "# Datos iniciales\n",
        "n=25 # número de ensayos Bernoulli\n",
        "p=0.3 # probabilidad de éxito\n",
        "s=100000 # número de muestras\n",
        "\n",
        "binom_numeros = binom.rvs(n,p,size=s) # genera números aleatorios que siguen una distribución binomial\n",
        "\n",
        "plt.figure(figsize=(10,6)) #tamaño de la figura\n",
        "plt.hist(\n",
        "    binom_numeros, # datos\n",
        "    density=True,\n",
        "    bins=len(np.unique(binom_numeros)), # número de intervalos\n",
        "    color = \"pink\",\n",
        "    edgecolor = \"grey\"\n",
        ")\n",
        "plt.xlabel(\"Número de éxitos\")\n",
        "plt.ylabel(\"Probabilidad\")\n",
        "plt.title(\"Distribución binomial\")\n",
        "plt.xticks(np.arange(min(binom_numeros), max(binom_numeros)+1,1))\n",
        "plt.show()"
      ],
      "metadata": {
        "colab": {
          "base_uri": "https://localhost:8080/",
          "height": 564
        },
        "id": "L8XyvMVOpZXf",
        "outputId": "a24a760a-74ba-4687-f109-4eb4bb13199e"
      },
      "id": "L8XyvMVOpZXf",
      "execution_count": null,
      "outputs": [
        {
          "output_type": "display_data",
          "data": {
            "text/plain": [
              "<Figure size 1000x600 with 1 Axes>"
            ],
            "image/png": "[encoded data removed]"
          },
          "metadata": {}
        }
      ]
    },
    {
      "cell_type": "markdown",
      "source": [
        "# Variable aleatoria Poisson\n",
        "\n",
        "Es una distribución de probabilidad discreta que  sirve para calcular la probabilidad de que ocurra un determinado número de eventos raros durante un intervalo dado (puede ser de tiempo, longitud, área, etc.\n",
        "\n",
        "Esta variable aleatoria toma los valores sobre el conjunto $\\{0,1,2,\\dots\\}$ y tiene un parámetro $\\lambda>0$, el cual representa el número de veces que se espera que ocurra un evento durante un intervalo dado.\n",
        "\n",
        "La función de masa de probabilidades de una variable aleatoria Poisson, $X$, está dada por:\n",
        "$$f_{X}(k)=\\begin{cases}\n",
        "\te^{-\\lambda}\\frac{\\lambda^{k}}{k!} &\\quad \\text{si } k=0,1,2,\\dots \\\\\n",
        "\t0 &\\quad \\text{en otro caso}  \n",
        "\\end{cases}$$\n",
        "\n",
        "En efecto, es una función de masa de probabilidades debido a que\n",
        "$$\\begin{align*}\n",
        "\\sum_{k=0}^{\\infty}e^{-\\lambda}\\frac{\\lambda^{k}}{k!} &= e^{-\\lambda}\\sum_{k=0}^{\\infty}\\frac{\\lambda^{k}}{k!} \\\\ &= e^{-\\lambda}\\underbrace{\\left(1+\\lambda+\\frac{\\lambda^{2}}{2!}+\\frac{\\lambda^{3}}{3!}+\\cdots\\right)}_{\\text{desarrollo de Taylor de }e^{\\lambda}} \\\\ &= e^{-\\lambda}e^{\\lambda}=1.\n",
        "\\end{align*}$$\n",
        "\n",
        "**Aplicaciones**\n",
        "\n",
        "**Ejemplo:** Supongamos que el número de accidentes que ocurre en un punto tiene una distribución Poisson con parámetro $\\lambda=2$.\n",
        "* ¿Cuál es la probabilidad de que en un día ocurran más de dos accidentes?\n",
        "  $$\\begin{align*}\n",
        "\t\\mathbb{P}(X>2) &= 1-\\mathbb{P}(X\\le 2) \\\\ &=1-\\left[\\mathbb{P}(X=0)+\\mathbb{P}(X=1)+\\mathbb{P}(X=2)\\right] \\\\ &= 1-\\left[\\frac{e^{-2}2^{0}}{0!}+\\frac{e^{-2}2^{1}}{1!}+\\frac{e^{-2}2^{2}}{2!}\\right] \\\\ &= 1-e^{-2}\\left[1+2+2\\right] = 1-5e^{-2} = 0.3233\n",
        "  \\end{align*}$$\n",
        "\n",
        "* ¿Cuál es la probabilidad de que en un día ocurran más de dos accidentes, sabiendo que ocurre por lo menos uno?\n",
        "$$\\begin{align*}\n",
        "\\mathbb{P}(X>2 \\mid X\\ge 1) = \\frac{\\mathbb{P}(X>2 \\cap X\\ge 1)}{\\mathbb{P}(X\\ge 1)} = \\frac{\\mathbb{P}(X>2)}{\\mathbb{P}(X\\ge 1)} = \\frac{1-5e^{-2}}{1-e^{-2}} = \\frac{0.3233}{0.8646} = 0.3739\n",
        "\\end{align*}$$\n",
        "ya que $\\mathbb{P}(X\\ge 1)=1-\\mathbb{P}(X<1)=1-\\mathbb{P}(X=0)=1-e^{-2}$\n",
        "\n",
        "$\\color{red}{\\text{Ejercicio 3.}}$ Usando el atributo `.cdf` [Poisson](https://docs.scipy.org/doc/scipy/reference/generated/scipy.stats.poisson.html) calcula las probabilidades anteriores.\n"
      ],
      "metadata": {
        "id": "73pLB0Hmg5e4"
      },
      "id": "73pLB0Hmg5e4"
    },
    {
      "cell_type": "code",
      "source": [
        "from scipy.stats import poisson\n",
        "1 - poisson.cdf(2, 2)\n",
        "print(f'La probabilidad de que en un día ocurran más de dos accidentes es {1 - poisson.cdf(2, 2):.4f}')"
      ],
      "metadata": {
        "colab": {
          "base_uri": "https://localhost:8080/"
        },
        "id": "u24sn6mtYcqF",
        "outputId": "e3c304eb-0748-4ca6-c113-40faa2abdc6b"
      },
      "id": "u24sn6mtYcqF",
      "execution_count": 34,
      "outputs": [
        {
          "output_type": "stream",
          "name": "stdout",
          "text": [
            "La probabilidad de que en un día ocurran más de dos accidentes es 0.3233\n"
          ]
        }
      ]
    },
    {
      "cell_type": "code",
      "source": [
        "P = (1 - poisson.cdf(2, 2))/(1 - poisson.cdf(0, 2))\n",
        "print(f'La probabilidad de que en un día ocurran más de dos accidentes, sabiendo que ocurre por lo menos uno es {P:.4f}')"
      ],
      "metadata": {
        "colab": {
          "base_uri": "https://localhost:8080/"
        },
        "id": "aiIToOPRwvd1",
        "outputId": "094e58a0-9237-4ff3-bac9-93d2ded2eb17"
      },
      "id": "aiIToOPRwvd1",
      "execution_count": 36,
      "outputs": [
        {
          "output_type": "stream",
          "name": "stdout",
          "text": [
            "La probabilidad de que en un día ocurran más de dos accidentes, sabiendo que ocurre por lo menos uno es 0.3739\n"
          ]
        }
      ]
    },
    {
      "cell_type": "markdown",
      "source": [
        "## Aproximación de Poisson a la Binomial\n",
        "La distribución de Poisson es una forma límite de la distribución binomial, es decir, es una buena aproximación cuando $n$ es suficientemente grande y $p$ suficientemente pequeña.\n",
        "\n",
        "$\\textbf{Teorema (Poisson).-}$ Sean $S_{n}\\sim Bin(n,p_{n})$ bajo el regimen $$\\lim_{n\\to \\infty}np_{n}=\\lambda>0.$$\n",
        "Consideremos la siguiente sucesión de números reales:\n",
        "$$a_{j}(n,p_n)=\\begin{cases}\\binom{n}{j}(p_n)^{j}(1-p_{n})^{n-j} & j\\leq n\\\\\n",
        "0 & j\\geq n+1\\end{cases}$$\n",
        "\n",
        " Entonces,\n",
        " $$\\lim_{n\\to \\infty}a_{j}(n,p_n)=a_{j}=e^{-\\lambda}\\frac{\\lambda^{j}}{j!} \\ \\ \\forall j\\in \\mathbb{N}.$$\n",
        "\n",
        " El teorema anterior implica que la distribución de Poisson ofrece un modelo probabilístico adecuado para todos aquellos experimentos aleatorios \ten los que las repeticiones son independientes unas de otras y en los \tque sólo hay dos posibles resultados: éxito o fracaso, con probabilidad de \téxito pequeña, y en los que el interés se centra en conocer el número de éxitos obtenidos al realizar el experimento un número suficientemente grande de veces.\n",
        "\n",
        "Empíricamente se ha establecido, que la aproximación se puede aplicar con seguridad si $n\\ge100$, $p\\le 0.01$ y $np \\le20$.\n",
        "\n",
        "**Ejemplo** Supongamos que la probabilidad de que un producto producido por cierta máquina es defectuoso es de $0.1$. ¿Cuál es la probabilidad de que un lote de 10 productos contenga a lo más un producto defectuoso?\n",
        "\n",
        "Sea $X$ el número de productos defectuosos, y sabemos que $X$ tiene una distribución binomial con parámetros $n=10$ y $p=0.1$, entonces\n",
        "\\begin{align*}\n",
        "\\mathbb{P}(X\\le 1) &= \\mathbb{P}(X=0)+\\mathbb{P}(X=1) \\\\ &= \\binom{10}{0}(0.1)^{0}(0.9)^{10-0}+\\binom{10}{1}(0.1)^{1}(0.9)^{10-1} \\\\ &= 0.7361\n",
        "\t\\end{align*}\n",
        "\n",
        "Ahora, con la distribución Poisson, tenemos que $\\lambda=10(0.1)=1$, por lo que\n",
        "$$\\mathbb{P}(X\\le 1) = \\mathbb{P}(X=0)+\\mathbb{P}(X=1) = \\frac{e^{-1}1^{0}}{0!}+\\frac{e^{-1}1^{1}}{1!} = e^{-1}+e^{-1} =0.7358$$"
      ],
      "metadata": {
        "id": "EBqu72sMwtR9"
      },
      "id": "EBqu72sMwtR9"
    },
    {
      "cell_type": "markdown",
      "source": [
        "## Variable aleatoria Geométrica con parámetro $p\\in (0,1)$.\n",
        "\n",
        "Esta variable aleatoria cuenta el número de fracasos antes del primer éxito en ensayos bernoulli independientes con parámetro $0<p<1$, y su función de masa de probabilidades está dada por:\n",
        "$$f_{X}(k)=\\begin{cases}\n",
        "\tp(1-p)^{k-1} &\\quad \\text{si } k=1,2,\\dots \\\\\n",
        "\t\\qquad 0 &\\quad \\text{en otro caso}  \n",
        "\\end{cases}$$\n",
        "\n",
        "\n",
        "Notación. $X\\sim Geo(p)$\n",
        "\n",
        "La cual es una función de densidad ya que:\n",
        "* $0\\le f_{X}(k)\\le 1$ para toda $x$.\n",
        "* $$\\begin{align*}\n",
        "\t\\sum_{k\\in R_{X}}f_{X}(k) &= \\sum_{k=1}^{\\infty}(1-p)^{k-1}p \\\\\n",
        "\t\t\t&= p\\sum_{y=0}^{\\infty}(1-p)^{y} \\\\\n",
        "\t\t\t&= p\\left(\\frac{1}{1-(1-p)}\\right) = 1\n",
        "\t\t\\end{align*}$$\n",
        "\n",
        "Si por el contrario queremos contar el número de éxitos antes del primer fracaso, tenemos que la función de está dada por:\n",
        "\t$$f_{X}(k)=\\begin{cases}\n",
        "\t\tp^{k}(1-p) &\\quad \\text{si } k=0,1,2,\\dots \\\\\n",
        "\t\t\\qquad 0 &\\quad \\text{en otro caso}  \n",
        "\t\\end{cases}$$\n",
        "\n",
        "Para calcular la Esperanza y Varianza de $X$, necesitamos del siguiente lema:\n",
        "\n",
        "**Lema 1** Sea $x$ un número real tal que $│x│<1$. Entonces,\n",
        "$$\\sum_{k=1}^{\\infty}kx^{k-1}=\\frac{1}{(1-x)^2}.$$\n",
        "**Demostración.** Se tiene que\n",
        "$$\\frac{d}{dx}\\sum_{k=1}^{\\infty}x^{k}=\\sum_{k=1}^{\\infty}kx^{k-1}.$$\n",
        "Además,\n",
        "$$\\sum_{k=1}^{\\infty}x^{k}=\\frac{x}{1-x}.$$\n",
        "Por lo tanto,\n",
        "$$\\frac{d}{dx}\\frac{x}{1-x}=\\frac{1}{(1-x)^2}.$$\n",
        "\n",
        "Como corolario,\n",
        "$$\\sum_{k=1}^{\\infty}k(k+1)x^{k-1}=\\frac{2}{(1-x)^2}.$$\n",
        "En efecto,\n",
        "$$\\frac{d}{dx}\\sum_{k=1}^{\\infty}(k+1)x^{k}=\\sum_{k=1}^{\\infty}k(k+1)x^{k-1}.$$\n",
        "Ahora,\n",
        "$$\\sum_{k=1}^{\\infty}(k+1)x^{k}=\\sum_{m=2}^{\\infty}mx^{m-1}=\\frac{1}{(1-x)^2}-1.$$\n",
        "\n",
        "Usando estos resultados, la esperanza de $X$ es:\n",
        "\\begin{align*}\n",
        "\\mathbb{E}[X]&=  \\sum_{x \\mathop \\ge 1} k p(1-p)^{k - 1}\\\\\n",
        "&= p \\frac 1 {(1 - (1-p))^2}\\\\\n",
        "&=  \\frac p {p^2}\\\\\n",
        "&=\\frac{1}{p}\n",
        "\\end{align*}\n",
        "\n",
        "Calculamos,\n",
        "\\begin{align*}\n",
        "\\mathbb{E}[X^2]&= \\sum_{k=1}^{\\infty} x^{2}p(1-p)^{k-1}\\\\\n",
        "&=\\sum_{k=1}^{\\infty}k(k+1)(1-p)^{k-1}p-\\sum_{k=1}^{\\infty}p(1-p)^{k-1}\n",
        "\\end{align*}\n",
        "\n",
        "Por el Lema 1,\n",
        "$$\\mathbb{E}[X^2]=p\\frac{2}{p^3}-\\frac{1}{p}=\\frac{2}{p^2}-\\frac{1}{p}.$$\n",
        "\n",
        "Por lo tanto,\n",
        "$$\\text{Var}(X)=\\frac{2}{p^2}-\\frac{1}{p}-\\frac{1}{p^2}=\\frac{1-p}{p^2}.$$"
      ],
      "metadata": {
        "id": "4mz4tCaWg84X"
      },
      "id": "4mz4tCaWg84X"
    },
    {
      "cell_type": "markdown",
      "source": [
        "**Ejemplo.** Cada una de $12$ personas lanza una moneda indefinidamente, deteniendo sus lanzamientos en el momento en que se obtiene por primera vez águila. ¿Cuál es la probabilidad de que por lo menos $10$ de ellas realicen menos de $4$ lanzamientos?\n",
        "\n",
        "Sea $X$ el número de lanzamientos que se realizan antes de obtener por primera vez águila al lanzar una moneda indefinidamente y sea $Y$ el número de personas que realizan menos de $4$ lanzamientos. Así, $Y\\sim \\text{Binom}\\left(12, p=\\mathbb{P}(X<3) \\right)$, en donde $X\\sim \\text{Geo}(1/2)$. Así,\n",
        "- $p=\\frac{7}{8}$.\n",
        "- $\\mathbb{P}(Y\\geq 10)=0.818$"
      ],
      "metadata": {
        "id": "MBHSx-yOiL82"
      },
      "id": "MBHSx-yOiL82"
    },
    {
      "cell_type": "markdown",
      "source": [
        "## Variable aleatoria Binomial Negativa con parámetros $r\\geq 1$ y $p\\in (0,1)$.\n",
        "\n",
        "Supongamos que se realizan ensayos independientes, cada uno con probabilidad $0<p<1$ de ser un éxito, hasta obtener un total de $r$ éxitos acumulados. Sea $X$ el número de ensayos que se requieren, entonces su función de masa de probabilidades está dada por:\n",
        "$$f_{X}(k)=\\begin{cases}\n",
        "\t\\binom{n-1}{r-1}p^{r}(1-p)^{n-r} &\\quad \\text{si } n=r,r+1,\\dots \\\\\n",
        "\t\\qquad 0 &\\quad \\text{en otro caso}  \n",
        "\\end{cases}$$\n",
        "\n",
        "\n",
        "\n",
        "Notación. $X\\sim \\text{BN}(r,p)$.\n",
        "\n",
        "Se tiene que\n",
        "$$\\mathbb{E}[X]=\\frac{r}{p}$$\n",
        "y\n",
        "$$\\text{Var}[X]=\\frac{r(1-p)}{p^2}.$$\n",
        "\n",
        "$\\color{red}{\\text{Ejercicio 4.}}$ Un examen de Estadística consta de 20 preguntas tipo test y se conoce de experiencias\n",
        "anteriores que un alumno tiene probabilidad 0.7 de contestar bien cada pregunta. Obtener:\n",
        "\n",
        "a) La probabilidad de que la primera pregunta que contesta bien sea la cuarta.\n",
        "\n",
        "b) Sabiendo que para aprobar el examen es necesario contestar bien a 10 preguntas, ¿cuál es la probabilidad de que apruebe al contestar la pregunta duodécima?\n",
        "\n",
        "\\\\\n",
        "*Solución:*\n",
        "\n",
        "Sea $p=0.7$ la probabilidad que tiene un alumno de contestar bien cada pregunta (éxito)\n",
        "\n",
        "a) Probabilidad de que la primera pregunta que contesta bien sea la cuarta:\n",
        "\n",
        "Para que la primera pregunta correcta sea la cuarta, esto implica que las primeras tres preguntas deben estar incorrectas y la cuarta correcta, entonces:\n",
        "- Probabilidad de que las primeras tres preguntas sean incorrectas: $(1-p)^3$\n",
        "- Probabilidad de que la cuarta pregunta sea correcta: $p$\n",
        "\n",
        "Por lo que la probabilidad de que la primera pregunta que contesta bien sea la cuarta es $p(1-p)^3$"
      ],
      "metadata": {
        "id": "I39XPyC-nW6W"
      },
      "id": "I39XPyC-nW6W"
    },
    {
      "cell_type": "code",
      "source": [
        "p = 0.7\n",
        "print(f'La probabilidad de que la primera pregunta que contesta bien sea la cuarta es {(1-p)**3*p:.4f}')"
      ],
      "metadata": {
        "colab": {
          "base_uri": "https://localhost:8080/"
        },
        "id": "Hrn_ns_jfq-F",
        "outputId": "aa4b7073-f6ad-4af1-a9b6-9326e6ca1569"
      },
      "id": "Hrn_ns_jfq-F",
      "execution_count": 38,
      "outputs": [
        {
          "output_type": "stream",
          "name": "stdout",
          "text": [
            "La probabilidad de que la primera pregunta que contesta bien sea la cuarta es 0.0189\n"
          ]
        }
      ]
    },
    {
      "cell_type": "markdown",
      "source": [
        "Ahora, también podríamos resolver esto como un problema de distribución binomial, donde:"
      ],
      "metadata": {
        "id": "nfSo54oOhgES"
      },
      "id": "nfSo54oOhgES"
    },
    {
      "cell_type": "code",
      "source": [
        "from scipy.stats import binom\n",
        "\n",
        "# Parámetros de la distribución binomial\n",
        "n = 3  # número de ensayos\n",
        "p = 0.7  # probabilidad de éxito en cada ensayo\n",
        "\n",
        "# Calcular la probabilidad de no tener éxitos en los primeros tres ensayos\n",
        "k = 0\n",
        "p0 = binom.pmf(k, n, p)\n",
        "\n",
        "# Multiplicar la probabilidad de no tener éxitos en los primeros tres ensayos por la probabilidad de que la cuarta se conteste correctamente\n",
        "p4a = p0 * p\n",
        "\n",
        "print(f'La probabilidad de que la primera pregunta que contesta bien sea la cuarta es {p4a:.4f}')"
      ],
      "metadata": {
        "colab": {
          "base_uri": "https://localhost:8080/"
        },
        "id": "W8zwcQv_g-aa",
        "outputId": "c82dfb0b-49b7-4cdc-a555-55f6e44143b3"
      },
      "id": "W8zwcQv_g-aa",
      "execution_count": 44,
      "outputs": [
        {
          "output_type": "stream",
          "name": "stdout",
          "text": [
            "La probabilidad de que la primera pregunta que contesta bien sea la cuarta es 0.0189\n"
          ]
        }
      ]
    },
    {
      "cell_type": "markdown",
      "source": [
        "b) Probabilidad de que apruebe al contestar la pregunta duodécima.\n",
        "Sea $n$ el número de preguntas del examen y $p=0.7$ la probabilidad de acertar. La variable aleatoria $X$ tiene una distribución binomial de parámetros $n$ y $p$ con la función de densidad:\n",
        "$$\\begin{equation*}\n",
        "\tf_{X}(k)=\\begin{cases}\n",
        "\t\\binom{n}{k}p^{k}(1-p)^{n-k} &\\quad \\text{si } k=0,1,\\dots,n \\\\\n",
        "\t\\qquad 0 &\\quad \\text{en otro caso}  \n",
        "\t\\end{cases}\n",
        "\\end{equation*}$$\n",
        "\n",
        "Para aprobar al contestar la pregunta duodécima, significa que en las primeras 11 preguntas ha acertado exactamente 9 y la duodécima la ha acertado.\n",
        "\n",
        "Primero calcularemos la probabilidad de que en las primeras 11 preguntas ha acertado exactamente 9. Este es un problema de distribución binomial, donde:\n",
        "\n",
        "$n:$ número de intentos (11 en este caso, ya que estamos considerando las primeras 11 preguntas)\n",
        "\n",
        "$k:$ número de éxitos (9 aciertos)\n",
        "\n",
        "$p:$ probabilidad de éxito en cada intento (0.7)\n",
        "\n",
        "$$\\mathbb{P}(X=9)= \\binom{11}{9}p^{9}(1-p)^{11-9} $$\n",
        "\n",
        "Ahora, puesto que son eventos independietes, podemos multiplicar este resultado por la probabilidad del evento B, acertar en la duodécima, y obtenemos\n",
        "\n",
        "$$\\mathbb{P}(B|X=9) = p\\binom{11}{9}p^{9}(1-p)^{11-9}$$"
      ],
      "metadata": {
        "id": "Gnen1kAkf2ik"
      },
      "id": "Gnen1kAkf2ik"
    },
    {
      "cell_type": "code",
      "source": [
        "# Parámetros de la distribución binomial\n",
        "n = 11  # número de ensayos\n",
        "p = 0.7  # probabilidad de éxito en cada ensayo\n",
        "\n",
        "# Calcular la probabilidad acertar 9 de 11 preguntas\n",
        "k = 9\n",
        "p4b =p * binom.pmf(k, n, p)\n",
        "print(f'La probabilidad de que apruebe al contestar la pregunta duodécima es {p4b:.4f}')"
      ],
      "metadata": {
        "colab": {
          "base_uri": "https://localhost:8080/"
        },
        "id": "6XkZxOe4i20C",
        "outputId": "753148b5-5205-4190-d2d9-f1120a9777a7"
      },
      "id": "6XkZxOe4i20C",
      "execution_count": 50,
      "outputs": [
        {
          "output_type": "stream",
          "name": "stdout",
          "text": [
            "La probabilidad de que apruebe al contestar la pregunta duodécima es 0.1398\n"
          ]
        }
      ]
    },
    {
      "cell_type": "markdown",
      "source": [
        "$\\color{red}{\\text{Ejercicio 5.}}$ Investigue sobre el problema de la caja de cerillos de Banach y explique su solución."
      ],
      "metadata": {
        "id": "WLPEsBcgcSnu"
      },
      "id": "WLPEsBcgcSnu"
    },
    {
      "cell_type": "markdown",
      "source": [
        "## Variable aleatoria Hipergeométrica con parámetros $n,N,m$.\n",
        "\n",
        "Supongamos que se elige, sin reemplazo, una muestra de tamaño $n$ de una urna que contiene $N$ bolas, de las cuales $m$ son rojas y $N-m$ son verdes. Sea $X$ el número de ebolas rojas seleccionadas, entonces su función de masa de probabilidades está dada por:\n",
        "$$f_{X}(k)=\n",
        "\t\\frac{\\binom{m}{i}\\binom{N-m}{n-i}}{\\binom{N}{n}} \\quad \\text{si } i=0,1,\\dots, n  \n",
        "$$\n",
        "\n",
        "\n",
        "\n",
        "Notación. $X\\sim \\text{Hiper}(n,N,m)$.\n",
        "\n",
        "Se tiene que\n",
        "$$\\mathbb{E}[X]=\\frac{nm}{N}$$\n",
        "y\n",
        "$$\\text{Var}[X]=\\frac{nm}{N}\\left[\\frac{(n-1)(m-1)}{N-1}+1-\\frac{nm}{N} \\right].$$\n",
        "\n",
        "**Nota.** Si $i\\leq n$ y $X\\sim \\text{Hiper}(n,N,m)$, cuando $p=\\frac{m}{N}$ y $m,N$ son muy grandes con respecto a $n$ e $i$:\n",
        "$$\\mathbb{P}(X=i)\\approx \\binom{n}{i}p^{i}(1-p)^{n-i}.$$"
      ],
      "metadata": {
        "id": "8veKIbyeoJNy"
      },
      "id": "8veKIbyeoJNy"
    },
    {
      "cell_type": "markdown",
      "source": [
        "$\\color{red}{\\text{Ejercicio 6.}}$ Una compañía petrolera realiza un estudio geológico que indica que un pozo petrolero exploratorio debería tener un 20% de posibilidades de encontrar petróleo.\n",
        "\n",
        "- ¿Cuál es la probabilidad de que el primer pozo se produzca en el tercer pozo perforado?\n",
        "\n",
        "Para que el primer pozo productor sea el tercero, esto implica que los dos primeros pozos deben ser secos y el tercero debe ser productor.\n",
        "\n",
        "Sea $A$ el evento en el que el tercer pozo es productor y los primeros dos están secos, sea $p$ la probabilidad de encontrar petróleo\n",
        "\n",
        "$$P(A) = (1-p)^2· p$$\n",
        "\n"
      ],
      "metadata": {
        "id": "V1rp8sMJpwiz"
      },
      "id": "V1rp8sMJpwiz"
    },
    {
      "cell_type": "code",
      "source": [
        "p=0.20\n",
        "P6a=(1-p)**2*p\n",
        "print(f'La probabilidad de que el primer pozo se produzca en el tercer pozo perforado es {P6a:.4f}')"
      ],
      "metadata": {
        "colab": {
          "base_uri": "https://localhost:8080/"
        },
        "id": "0Gj7QYYRr_f4",
        "outputId": "71686196-41b0-4268-a498-a1106979ff47"
      },
      "id": "0Gj7QYYRr_f4",
      "execution_count": 51,
      "outputs": [
        {
          "output_type": "stream",
          "name": "stdout",
          "text": [
            "La probabilidad de que el primer pozo se produzca en el tercer pozo perforado es 0.1280\n"
          ]
        }
      ]
    },
    {
      "cell_type": "markdown",
      "source": [
        "- ¿Cuál es la probabilidad de que el tercer pozo se produzca en el séptimo pozo perforado?\n",
        "\n",
        "Podemos utilizar la distribución binomial para resolver este caso.\n",
        "\n",
        "$n:$ número de intentos (6, ya que estamos considerando los primeros 6 pozos)\n",
        "\n",
        "$k:$ número de éxitos (2 pozos productores)\n",
        "\n",
        "$p:$ probabilidad de éxito en cada intento (0.2)\n",
        "\n",
        "$$\\mathbb{P}(X=2)=\\binom{6}{2}p^{2}(1-p)^{6-2}$$\n",
        "\n",
        "Ahora, para que el tercer pozo productor sea el séptimo, el séptimo pozo debe ser productor, cuya probabilidad es 0.2.\n",
        "\n",
        "Sea B el evento en el que el tercer pozo se produzca en el séptimo pozo perforado\n",
        "\n",
        "$$\\mathbb{P}(B)= p · \\binom{6}{2}p^{2}(1-p)^{6-2} $$\n"
      ],
      "metadata": {
        "id": "IAVepp8Ur5PI"
      },
      "id": "IAVepp8Ur5PI"
    },
    {
      "cell_type": "code",
      "source": [
        "# Parámetros de la distribución binomial\n",
        "n = 6  # número de ensayos\n",
        "p = 0.2  # probabilidad de éxito en cada ensayo\n",
        "\n",
        "# Calcular la probabilidad tener 2 pozos productores en 6 perforados\n",
        "k = 2\n",
        "p6b =p * binom.pmf(k, n, p)\n",
        "print(f'La probabilidad de que el tercer pozo se produzca en el séptimo pozo perforado es {p6b:.4f}')"
      ],
      "metadata": {
        "colab": {
          "base_uri": "https://localhost:8080/"
        },
        "id": "3QJj9XGHs93I",
        "outputId": "7b041f29-15bf-4f4b-df9d-7a567e1d7723"
      },
      "id": "3QJj9XGHs93I",
      "execution_count": 54,
      "outputs": [
        {
          "output_type": "stream",
          "name": "stdout",
          "text": [
            "La probabilidad de que el tercer pozo se produzca en el séptimo pozo perforado es 0.0492\n"
          ]
        }
      ]
    },
    {
      "cell_type": "markdown",
      "source": [
        "- ¿Cuál es la media y la varianza del número de pozos que se deben perforar si la compañía petrolera quiere establecer tres pozos productores?\n",
        "\n",
        "Este es un problema de distribución binomial negativa, que modela el número de fracasos antes del k-ésimo éxito.\n",
        "\n",
        "r: número de éxitos (3 pozos productores)\n",
        "\n",
        "p: probabilidad de éxito en cada intento (0.2)\n",
        "\n",
        "La media (E[X]) y la varianza (Var[X]) de una distribución binomial negativa están dadas por:\n",
        "\n",
        "$$\\mathbb{E}[X]=\\frac{r}{p}= \\frac{3}{0.2}=15$$\n",
        "y\n",
        "$$\\text{Var}[X]=\\frac{r(1-p)}{p^2} = \\frac{3(1-0.2)}{0.2^2}=60$$"
      ],
      "metadata": {
        "id": "pVPspX9Es-XI"
      },
      "id": "pVPspX9Es-XI"
    },
    {
      "cell_type": "code",
      "source": [
        "r = 3  # número de éxitos\n",
        "p = 0.2  # probabilidad de éxito en cada ensayo\n",
        "\n",
        "# Calcular la media y la varianza de la distribución binomial negativa\n",
        "media = r / p\n",
        "varianza = r * (1 - p) / (p ** 2)\n",
        "\n",
        "print('Para obtener 3 pozos productores')\n",
        "print(f'La media del número de pozos que se deben perforar es {media}')\n",
        "print(f'La varianza del número de pozos que se deben perforar es {varianza}')"
      ],
      "metadata": {
        "colab": {
          "base_uri": "https://localhost:8080/"
        },
        "id": "VoyMnynSuJvo",
        "outputId": "a3674ecc-dc91-4c87-942c-e72c053590ee"
      },
      "id": "VoyMnynSuJvo",
      "execution_count": 60,
      "outputs": [
        {
          "output_type": "stream",
          "name": "stdout",
          "text": [
            "Para obtener 3 pozos productores\n",
            "La media del número de pozos que se deben perforar es 15.0\n",
            "La varianza del número de pozos que se deben perforar es 60.0\n"
          ]
        }
      ]
    }
  ],
  "metadata": {
    "colab": {
      "provenance": [],
      "include_colab_link": true
    },
    "kernelspec": {
      "display_name": "Python 3 (ipykernel)",
      "language": "python",
      "name": "python3"
    },
    "language_info": {
      "codemirror_mode": {
        "name": "ipython",
        "version": 3
      },
      "file_extension": ".py",
      "mimetype": "text/x-python",
      "name": "python",
      "nbconvert_exporter": "python",
      "pygments_lexer": "ipython3",
      "version": "3.9.13"
    }
  },
  "nbformat": 4,
  "nbformat_minor": 5
}