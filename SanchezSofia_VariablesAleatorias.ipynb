{
  "nbformat": 4,
  "nbformat_minor": 0,
  "metadata": {
    "colab": {
      "provenance": []
    },
    "kernelspec": {
      "name": "python3",
      "display_name": "Python 3"
    },
    "language_info": {
      "name": "python"
    }
  },
  "cells": [
    {
      "cell_type": "markdown",
      "source": [
        "## Diplomado de Técnicas Estadísticas y Minería de Datos\n",
        "## Módulo II: Modelos estadísticos\n",
        "### Ejemplo de variable aleatoria uniforme\n",
        "Sea el experimento aleatorio de lanzar dos dados justos:\n",
        "* $\\Omega = \\{1,2,3,4,5,6\\}\\times \\{1,2,3,4,5,6\\} $\n",
        "* $\\mathcal{F} = P(\\Omega)$\n",
        "* Para $w=(i,j)$ donde $i,j\\in\\{1,...,6\\}$ talque\n",
        "   $$\\mathbb{P}( \\{ \\omega \\} )=\\frac{1}{36}$$\n",
        "\n",
        "Vamos a definir a la siguiente variable aleatoria:\n",
        "     $$S:\\Omega \\to R_{S}$$\n",
        "\n",
        "donde $R_{S}=\\{2,3,4,5,6,7,8,9,10,11,12\\}$    \n",
        "\n",
        "Para que entendamos la ley de una v.a., basta con entender los siguientes datos\n",
        "\n",
        "$$\\{(k,\\mathbb{P}(S=k))\\}_{k\\in R_{S}}$$\n",
        "\n",
        "Vamos a entender a $S$ como eventos.\n",
        "\n",
        "Sea $S_{n}$ el evento la suma de las caras es $n$.\n",
        "\n",
        "$$S_{n} = \\{(i,j)\\in\\Omega \\mid i+j =n \\} $$"
      ],
      "metadata": {
        "id": "6BGQFzTO0pBN"
      }
    },
    {
      "cell_type": "code",
      "source": [
        "# Bibliotecas necesarias\n",
        "from itertools import product # para realizar el prodcuto cartesiano\n",
        "from fractions import Fraction\n",
        "from collections import defaultdict # para generar los diccionarios\n",
        "import pandas as pd"
      ],
      "metadata": {
        "id": "BpsykyZT1FhM"
      },
      "execution_count": 1,
      "outputs": []
    },
    {
      "cell_type": "code",
      "source": [
        "# Funcion para calcular probabilidades\n",
        "def P(A, Omega):\n",
        "  P = Fraction(len(A),len(Omega))\n",
        "  return P"
      ],
      "metadata": {
        "id": "pwdyItTu1ner"
      },
      "execution_count": 2,
      "outputs": []
    },
    {
      "cell_type": "code",
      "source": [
        "#Primero vamos a crear a nuestro espacio muestral Omega\n",
        "L = [i for i in range(1,7)] #Lista por comprensión\n",
        "Omega = set(product(L, repeat=2))"
      ],
      "metadata": {
        "id": "W7TYUTew1vYM"
      },
      "execution_count": 3,
      "outputs": []
    },
    {
      "cell_type": "code",
      "source": [
        "# Generamos el espacio de resultados\n",
        "S = {(i,j): i+j for i,j in Omega}"
      ],
      "metadata": {
        "id": "OiptgnDI2E27"
      },
      "execution_count": 4,
      "outputs": []
    },
    {
      "cell_type": "code",
      "source": [
        "#Vamos a crear un diccionario con los posbiles resultados para cada n\n",
        "dS = defaultdict(set)\n",
        "for i,j in S.items():\n",
        "  dS[j].add(i) #añadiendo al diccionario las llaves"
      ],
      "metadata": {
        "id": "PwBz10h02MWz"
      },
      "execution_count": 5,
      "outputs": []
    },
    {
      "cell_type": "code",
      "source": [
        "# Calculamos la distribucion de la v.a. Sn\n",
        "leyS = {k : P(A,Omega) for k,A in dS.items()}\n",
        "proba_tot_E_1 = sum(leyS.values())\n",
        "\n",
        "# Usamos pandas para ordenarlo\n",
        "leyS = pd.Series(leyS)\n",
        "leyS = leyS.sort_index()\n",
        "\n",
        "leyS"
      ],
      "metadata": {
        "id": "GhugMOm02t60"
      },
      "execution_count": null,
      "outputs": []
    },
    {
      "cell_type": "markdown",
      "source": [
        "## Tarea. Calcular las leyes de las variables aleatorias\n",
        "### La diferencia de las caras es mayor que 1\n",
        "Sol.\n",
        "Continuando con el experimento de lanzar dos dados justos, definamos X como una variable aleatoria discreta tal que:\n",
        "$$X=\\left\\lbrace\\begin{array}{l} 1~~si~~ |i-j|>1\\\\ 0~~si~~ |i-j|<=1 \\end{array}\\right.$$\n",
        "donde $i,j \\in \\{1,2,3,4,5,6\\}$\n",
        "\n",
        "Sea $S_{1}$ el evento la suma de las caras es mayor que $1$, es decir,\n",
        "$$S_{1} = \\{(i,j)\\in\\Omega \\mid |i+j| >1 \\} $$"
      ],
      "metadata": {
        "id": "OYRYW_MD3lK8"
      }
    },
    {
      "cell_type": "code",
      "source": [
        "# Primero calcularemos el espacio de resultados para el evento S_1\n",
        "S_1 = {(i,j): abs(i-j) for i,j in Omega if abs(i-j) > 1}"
      ],
      "metadata": {
        "id": "708OJHQR3yj7"
      },
      "execution_count": 15,
      "outputs": []
    },
    {
      "cell_type": "code",
      "source": [
        "# Ahora, como hicimos en el ejemplo anterior, va a crear un diccionario con los posbiles resultados para el evento S1\n",
        "dS1 = defaultdict(set)\n",
        "for i,j in S_1.items():\n",
        "  dS1[j].add(i) #añadiendo al diccionario las llaves"
      ],
      "metadata": {
        "id": "5q7xcSTg5-7z"
      },
      "execution_count": 16,
      "outputs": []
    },
    {
      "cell_type": "code",
      "source": [
        "# Ahora calculamos la distribucion para S1\n",
        "leyS1 = {k : P(A,Omega) for k,A in dS1.items()}\n",
        "probaS1= sum(leyS1.values())"
      ],
      "metadata": {
        "id": "9lHPqpaw6cV0"
      },
      "execution_count": 17,
      "outputs": []
    },
    {
      "cell_type": "code",
      "source": [
        "# Usamos pandas para ordenarlo\n",
        "leyS1 = pd.Series(leyS1)\n",
        "leyS1 = leyS1.sort_index()\n",
        "leyS1"
      ],
      "metadata": {
        "colab": {
          "base_uri": "https://localhost:8080/",
          "height": 210
        },
        "id": "867c7iix6nMT",
        "outputId": "534607cc-3c63-41fb-fd2f-18cf38e87db7"
      },
      "execution_count": 19,
      "outputs": [
        {
          "output_type": "execute_result",
          "data": {
            "text/plain": [
              "2     2/9\n",
              "3     1/6\n",
              "4     1/9\n",
              "5    1/18\n",
              "dtype: object"
            ],
            "text/html": [
              "<div>\n",
              "<style scoped>\n",
              "    .dataframe tbody tr th:only-of-type {\n",
              "        vertical-align: middle;\n",
              "    }\n",
              "\n",
              "    .dataframe tbody tr th {\n",
              "        vertical-align: top;\n",
              "    }\n",
              "\n",
              "    .dataframe thead th {\n",
              "        text-align: right;\n",
              "    }\n",
              "</style>\n",
              "<table border=\"1\" class=\"dataframe\">\n",
              "  <thead>\n",
              "    <tr style=\"text-align: right;\">\n",
              "      <th></th>\n",
              "      <th>0</th>\n",
              "    </tr>\n",
              "  </thead>\n",
              "  <tbody>\n",
              "    <tr>\n",
              "      <th>2</th>\n",
              "      <td>2/9</td>\n",
              "    </tr>\n",
              "    <tr>\n",
              "      <th>3</th>\n",
              "      <td>1/6</td>\n",
              "    </tr>\n",
              "    <tr>\n",
              "      <th>4</th>\n",
              "      <td>1/9</td>\n",
              "    </tr>\n",
              "    <tr>\n",
              "      <th>5</th>\n",
              "      <td>1/18</td>\n",
              "    </tr>\n",
              "  </tbody>\n",
              "</table>\n",
              "</div><br><label><b>dtype:</b> object</label>"
            ]
          },
          "metadata": {},
          "execution_count": 19
        }
      ]
    },
    {
      "cell_type": "code",
      "source": [
        "print(f'La probabilidad de ocurrencia del evento S1 es {probaS1}')"
      ],
      "metadata": {
        "colab": {
          "base_uri": "https://localhost:8080/"
        },
        "id": "KcMaaNX-63Tq",
        "outputId": "df22458f-acd5-4dfc-c61d-e34c1dbefb8e"
      },
      "execution_count": 21,
      "outputs": [
        {
          "output_type": "stream",
          "name": "stdout",
          "text": [
            "La probabilidad de ocurrencia del evento E1 es 5/9\n"
          ]
        }
      ]
    },
    {
      "cell_type": "markdown",
      "source": [
        "## La suma de las caras sea par\n",
        "Continuando con el experimento de lanzar dos dados justos, definamos $Y$ como una variable aleatoria discreta tal que\n",
        "\n",
        "$$Y=\\left\\lbrace\\begin{array}{l} 1~~si~~ (i-j)\\%2=0\\\\ 0~~si~~ (i-j)\\%2=1 \\end{array}\\right.$$\n",
        "\n",
        "donde $i,j \\in \\{1,2,3,4,5,6\\}$\n",
        "Sea $S_2$ el evento en el que la suma de las caras es par, es decir:\n",
        "$$S_{2} = \\{(i,j)\\in\\Omega \\mid (i-j)\\%2=0 \\} $$\n"
      ],
      "metadata": {
        "id": "ZZ8_jAqg3ua7"
      }
    },
    {
      "cell_type": "code",
      "source": [
        "# Primero calcularemos el espacio de resultados para el evento S_1\n",
        "S_2 = {(i,j): (i+j)%2 for i,j in Omega if (i+j)%2 ==0}"
      ],
      "metadata": {
        "id": "qm4Kiwre8Eey"
      },
      "execution_count": 22,
      "outputs": []
    },
    {
      "cell_type": "code",
      "source": [
        "# Ahora, como hicimos en el ejemplo anterior, va a crear un diccionario con los posbiles resultados para el evento S2\n",
        "dS2 = defaultdict(set)\n",
        "for i,j in S_2.items():\n",
        "  dS2[j].add(i) #añadiendo al diccionario las llaves"
      ],
      "metadata": {
        "id": "AngbGmUd86pL"
      },
      "execution_count": 23,
      "outputs": []
    },
    {
      "cell_type": "code",
      "source": [
        "# Ahora calculamos la distribucion para S2\n",
        "leyS2 = {k : P(A,Omega) for k,A in dS2.items()}\n",
        "probaS2= sum(leyS2.values())\n",
        "# Usamos pandas para ordenarlo\n",
        "leyS1 = pd.Series(leyS1)\n",
        "leyS1 = leyS1.sort_index()"
      ],
      "metadata": {
        "id": "iuWCwnvo8-Yr"
      },
      "execution_count": 25,
      "outputs": []
    },
    {
      "cell_type": "code",
      "source": [
        "print(f'La probabilidad de ocurrencia del evento S2 es {probaS2}')"
      ],
      "metadata": {
        "colab": {
          "base_uri": "https://localhost:8080/"
        },
        "id": "Am39EKuD9Fri",
        "outputId": "d180decf-92ff-4daa-cbec-7550c36b3cb9"
      },
      "execution_count": 26,
      "outputs": [
        {
          "output_type": "stream",
          "name": "stdout",
          "text": [
            "La probabilidad de ocurrencia del evento S2 es 1/2\n"
          ]
        }
      ]
    },
    {
      "cell_type": "markdown",
      "source": [
        "3. Verifica en cada caso, que\n",
        "   $$\\sum_{k\\in R_{X}}\\mathbb{P}(X=k) = 1$$\n",
        "*Sol.*\n",
        "Sabemos que para el evento S1 $P[X=1] = \\frac{5}{9}$, bastará probar que $P[X=0] = \\frac{4}{9}$"
      ],
      "metadata": {
        "id": "LzZq8xAe7bAL"
      }
    },
    {
      "cell_type": "code",
      "source": [
        "# Primero calcularemos el espacio de resultados para el evento S_1 donde la variable aleatoria toma el 0\n",
        "S_0 = {(i,j): abs(i-j) for i,j in Omega if abs(i-j) <= 1}\n",
        "# Ahora, como hicimos en el ejemplo anterior, va a crear un diccionario con los posbiles resultados para el evento S0\n",
        "dS0 = defaultdict(set)\n",
        "for i,j in S_0.items():\n",
        "  dS0[j].add(i) #añadiendo al diccionario las llaves\n",
        "# Ahora calculamos la distribucion\n",
        "leyS0 = {k : P(A,Omega) for k,A in dS0.items()}\n",
        "probaS0= sum(leyS0.values())\n",
        "# Usamos pandas para ordenarlo\n",
        "leyS0 = pd.Series(leyS0)\n",
        "leyS0 = leyS0.sort_index()\n",
        "print(f'La probabilidad de ocurrencia del evento es {probaS0}')"
      ],
      "metadata": {
        "colab": {
          "base_uri": "https://localhost:8080/"
        },
        "id": "cNxSKeH5BXrz",
        "outputId": "80df9a1f-36f2-46ab-a4cb-81bab8a77967"
      },
      "execution_count": 47,
      "outputs": [
        {
          "output_type": "stream",
          "name": "stdout",
          "text": [
            "La probabilidad de ocurrencia del evento es 4/9\n"
          ]
        }
      ]
    },
    {
      "cell_type": "markdown",
      "source": [
        "De esta forma podemos ver que\n",
        " $$\\sum_{k\\in R_{X}}\\mathbb{P}(X=k) = \\mathbb{P}(X=1) + \\mathbb{P}(X=0)= 1$$\n",
        "\n",
        "\n",
        "Análogamente, veamos el segundo caso en el evento s1, calculemos la probabilidad de  $\\mathbb{P}(X=0)$, hasta el momento sabemos que $\\mathbb{P}(X=1) =  \\frac{1}{2}$, por lo que bastará con que comprobemos que $\\mathbb{P}(X=0) = \\frac{1}{2}$"
      ],
      "metadata": {
        "id": "2-TOgi2NB9-i"
      }
    },
    {
      "cell_type": "code",
      "source": [
        "# Primero calcularemos el espacio de resultados para el evento S_2 donde la variable aleatoria toma el 0\n",
        "S_0 = {(i,j): (i+j)%2 for i,j in Omega if (i+j)%2 ==1}\n",
        "# Ahora, como hicimos en el ejemplo anterior, va a crear un diccionario con los posbiles resultados para el evento S0\n",
        "dS0 = defaultdict(set)\n",
        "for i,j in S_0.items():\n",
        "  dS0[j].add(i) #añadiendo al diccionario las llaves\n",
        "# Ahora calculamos la distribucion\n",
        "leyS0 = {k : P(A,Omega) for k,A in dS0.items()}\n",
        "probaS0= sum(leyS0.values())\n",
        "# Usamos pandas para ordenarlo\n",
        "leyS0 = pd.Series(leyS0)\n",
        "leyS0 = leyS0.sort_index()\n",
        "print(f'La probabilidad de ocurrencia del evento es {probaS0}')"
      ],
      "metadata": {
        "colab": {
          "base_uri": "https://localhost:8080/"
        },
        "id": "yAfmTRzEC_G6",
        "outputId": "f7581164-b4dc-4a20-87ba-405c392854a5"
      },
      "execution_count": 49,
      "outputs": [
        {
          "output_type": "stream",
          "name": "stdout",
          "text": [
            "La probabilidad de ocurrencia del evento es 1/2\n"
          ]
        }
      ]
    },
    {
      "cell_type": "markdown",
      "source": [
        "De esta forma podemos ver que\n",
        " $$\\sum_{k\\in R_{X}}\\mathbb{P}(X=k) = \\mathbb{P}(X=1) + \\mathbb{P}(X=0)= 1$$"
      ],
      "metadata": {
        "id": "_wy9xdDFDakK"
      }
    },
    {
      "cell_type": "markdown",
      "source": [
        "4. Gráfica y calcula la función de distribución de la v.a. S (la suma de los resultados es n)  \n",
        "     Aquí pueden utilizar Python (para los que ya tengan conocimiento previo de matplotlib) o dibujado a mano / tablet /etc"
      ],
      "metadata": {
        "id": "OpH7_zwR9hRK"
      }
    },
    {
      "cell_type": "code",
      "source": [
        "#Primero importamos la biblioteca necesaria\n",
        "import matplotlib.pyplot as plt\n",
        "import numpy as np\n",
        "import matplotlib.colors as mcolors"
      ],
      "metadata": {
        "id": "tWJNF1yw9ah7"
      },
      "execution_count": 27,
      "outputs": []
    },
    {
      "cell_type": "code",
      "source": [
        "# Definir la normalización para los colores, (esto no es necesario)\n",
        "norm = mcolors.Normalize(vmin=min(leyS), vmax=max(leyS))\n",
        "\n",
        "# Crear una paleta de colores\n",
        "cmap = plt.get_cmap('Blues')\n",
        "\n",
        "# Generar los colores correspondientes\n",
        "colors = [cmap(norm(p)) for p in leyS]\n",
        "\n",
        "# Graficar la distribución de la variable aleatoria S\n",
        "plt.bar(leyS.index, [float(p) for p in leyS], color=colors)\n",
        "plt.title('Distribución de la suma de las caras de dos dados')\n",
        "plt.xlabel('Resultado de la suma')\n",
        "plt.ylabel('Probabilidad')\n",
        "plt.xticks(leyS.index)\n",
        "plt.grid(True, axis='y', linestyle='', alpha=0.8)\n",
        "\n",
        "# Mostrar la gráfica\n",
        "plt.show()\n"
      ],
      "metadata": {
        "colab": {
          "base_uri": "https://localhost:8080/",
          "height": 472
        },
        "id": "l6gfGRa5-8si",
        "outputId": "7ba1b8e1-78bf-45ee-bae8-994341d747a1"
      },
      "execution_count": 44,
      "outputs": [
        {
          "output_type": "display_data",
          "data": {
            "text/plain": [
              "<Figure size 640x480 with 1 Axes>"
            ],
            "image/png": "[encoded data removed]"
          },
          "metadata": {}
        }
      ]
    }
  ]
}